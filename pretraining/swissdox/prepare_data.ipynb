{
 "cells": [
  {
   "cell_type": "markdown",
   "source": [
    "Adapted from https://github.com/ZurichNLP/swissbert/blob/master/pretraining/data_preprocessing/prepare_data.ipynb"
   ],
   "metadata": {
    "collapsed": false
   },
   "id": "5960a90384adaf1f"
  },
  {
   "cell_type": "code",
   "execution_count": 3,
   "outputs": [],
   "source": [
    "%load_ext autoreload\n",
    "%autoreload 2"
   ],
   "metadata": {
    "collapsed": false,
    "ExecuteTime": {
     "end_time": "2023-09-30T14:13:51.488106Z",
     "start_time": "2023-09-30T14:13:51.477576Z"
    }
   },
   "id": "6a7a51ef32a1ea65"
  },
  {
   "cell_type": "code",
   "execution_count": 6,
   "outputs": [],
   "source": [
    "import csv\n",
    "import logging\n",
    "import sys\n",
    "from pathlib import Path\n",
    "\n",
    "from swissdox.swissdox import SwissdoxData\n",
    "from swissdox import utils"
   ],
   "metadata": {
    "collapsed": false,
    "ExecuteTime": {
     "end_time": "2023-09-30T14:14:28.303142Z",
     "start_time": "2023-09-30T14:14:28.281526Z"
    }
   },
   "id": "b91d45e2eb864d8b"
  },
  {
   "cell_type": "code",
   "execution_count": 7,
   "outputs": [
    {
     "data": {
      "text/plain": "131072"
     },
     "execution_count": 7,
     "metadata": {},
     "output_type": "execute_result"
    }
   ],
   "source": [
    "csv.field_size_limit(sys.maxsize)"
   ],
   "metadata": {
    "collapsed": false,
    "ExecuteTime": {
     "end_time": "2023-09-30T14:14:34.695333Z",
     "start_time": "2023-09-30T14:14:34.677658Z"
    }
   },
   "id": "9f088a543dc2fcd3"
  },
  {
   "cell_type": "code",
   "execution_count": 8,
   "outputs": [],
   "source": [
    "logging.basicConfig(level=logging.INFO)"
   ],
   "metadata": {
    "collapsed": false,
    "ExecuteTime": {
     "end_time": "2023-09-30T14:14:43.216576Z",
     "start_time": "2023-09-30T14:14:43.206649Z"
    }
   },
   "id": "4f612a9d6aa37620"
  },
  {
   "cell_type": "code",
   "execution_count": 9,
   "outputs": [],
   "source": [
    "!export TOKENIZERS_PARALLELISM=false"
   ],
   "metadata": {
    "collapsed": false,
    "ExecuteTime": {
     "end_time": "2023-09-30T14:14:48.106329Z",
     "start_time": "2023-09-30T14:14:47.971089Z"
    }
   },
   "id": "149d96c1f06d964a"
  },
  {
   "cell_type": "code",
   "execution_count": 12,
   "outputs": [],
   "source": [
    "language = \"DE_CH\""
   ],
   "metadata": {
    "collapsed": false,
    "ExecuteTime": {
     "end_time": "2023-09-30T14:15:53.710517Z",
     "start_time": "2023-09-30T14:15:53.698409Z"
    }
   },
   "id": "66adc43c7239dacd"
  },
  {
   "cell_type": "code",
   "execution_count": 11,
   "outputs": [],
   "source": [
    "data_dir = Path(\"../data/swissdox\")\n",
    "assert data_dir.exists()"
   ],
   "metadata": {
    "collapsed": false,
    "ExecuteTime": {
     "end_time": "2023-09-30T14:15:17.129860Z",
     "start_time": "2023-09-30T14:15:17.108044Z"
    }
   },
   "id": "be27e4496fb15693"
  },
  {
   "cell_type": "code",
   "execution_count": 16,
   "outputs": [
    {
     "name": "stdout",
     "output_type": "stream",
     "text": [
      "Skipped 954 duplicates\n",
      "train: 553 articles\n",
      "valid: 543 articles\n"
     ]
    }
   ],
   "source": [
    "data = SwissdoxData(data_dir / f\"{language}.tsv\")\n",
    "articles = list(data.get_articles())\n",
    "train, valid = utils.create_split(articles)\n",
    "print(f\"train: {len(train)} articles\")\n",
    "print(f\"valid: {len(valid)} articles\")"
   ],
   "metadata": {
    "collapsed": false,
    "ExecuteTime": {
     "end_time": "2023-09-30T14:42:35.181089Z",
     "start_time": "2023-09-30T14:42:34.836318Z"
    }
   },
   "id": "5c8dcdf10f402eff"
  },
  {
   "cell_type": "code",
   "execution_count": 24,
   "outputs": [],
   "source": [
    "add_metadata = False\n",
    "metadata_use_special_tokens = False"
   ],
   "metadata": {
    "collapsed": false,
    "ExecuteTime": {
     "end_time": "2023-09-30T14:45:26.143289Z",
     "start_time": "2023-09-30T14:45:26.130935Z"
    }
   },
   "id": "b4c2e8c01fa10a19"
  },
  {
   "cell_type": "code",
   "execution_count": 25,
   "outputs": [],
   "source": [
    "train_path = data_dir / f\"{language}.train.txt\"\n",
    "with open(train_path, \"w\") as f:\n",
    "    for article in train:\n",
    "        article = article.to_txt(add_metadata=add_metadata, metadata_use_special_tokens=metadata_use_special_tokens)\n",
    "        f.write(article + \"\\n\")"
   ],
   "metadata": {
    "collapsed": false,
    "ExecuteTime": {
     "end_time": "2023-09-30T14:45:26.261577Z",
     "start_time": "2023-09-30T14:45:26.244842Z"
    }
   },
   "id": "56d5611015132ccb"
  },
  {
   "cell_type": "code",
   "execution_count": 26,
   "outputs": [],
   "source": [
    "valid_path = data_dir / f\"{language}.valid.txt\"\n",
    "with open(valid_path, \"w\") as f:\n",
    "    for article in valid:\n",
    "        article = article.to_txt(add_metadata=add_metadata, metadata_use_special_tokens=metadata_use_special_tokens)\n",
    "        f.write(article + \"\\n\")"
   ],
   "metadata": {
    "collapsed": false,
    "ExecuteTime": {
     "end_time": "2023-09-30T14:45:26.660035Z",
     "start_time": "2023-09-30T14:45:26.649470Z"
    }
   },
   "id": "766e8df98f0d8d2d"
  },
  {
   "cell_type": "code",
   "execution_count": null,
   "outputs": [],
   "source": [],
   "metadata": {
    "collapsed": false
   },
   "id": "338532741223c8f4"
  }
 ],
 "metadata": {
  "kernelspec": {
   "display_name": "Python 3",
   "language": "python",
   "name": "python3"
  },
  "language_info": {
   "codemirror_mode": {
    "name": "ipython",
    "version": 2
   },
   "file_extension": ".py",
   "mimetype": "text/x-python",
   "name": "python",
   "nbconvert_exporter": "python",
   "pygments_lexer": "ipython2",
   "version": "2.7.6"
  }
 },
 "nbformat": 4,
 "nbformat_minor": 5
}
